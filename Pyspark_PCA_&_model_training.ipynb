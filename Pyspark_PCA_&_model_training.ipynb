{
  "nbformat": 4,
  "nbformat_minor": 0,
  "metadata": {
    "colab": {
      "provenance": []
    },
    "kernelspec": {
      "name": "python3",
      "display_name": "Python 3"
    },
    "language_info": {
      "name": "python"
    }
  },
  "cells": [
    {
      "cell_type": "code",
      "source": [
        "!pip install pyspark"
      ],
      "metadata": {
        "id": "WSD2MA5yPINh"
      },
      "execution_count": null,
      "outputs": []
    },
    {
      "cell_type": "code",
      "execution_count": 25,
      "metadata": {
        "id": "jOixSMnBO28a"
      },
      "outputs": [],
      "source": [
        "import numpy as np\n",
        "from pyspark import SparkContext\n",
        "from pyspark.mllib.linalg import Vectors\n",
        "from pyspark.mllib.stat import Statistics"
      ]
    },
    {
      "cell_type": "code",
      "source": [
        "#init sparkcontext\n",
        "sc = SparkContext.getOrCreate()\n",
        "\n",
        "#gen synthesized dstaset\n",
        "def gen_synthetic_dataset():\n",
        "  np.random.seed(42)\n",
        "  rows = 1000\n",
        "  cols = 3\n",
        "  data = np.random.randn(rows, cols)\n",
        "  as_strings = [','.join(map(str, row)) for row in data]\n",
        "  return as_strings\n",
        "\n",
        "dataset = gen_synthetic_dataset()\n",
        "rdd = sc.parallelize(dataset)"
      ],
      "metadata": {
        "id": "b96u3xZ4PC9U"
      },
      "execution_count": 26,
      "outputs": []
    },
    {
      "cell_type": "code",
      "source": [
        "from pyspark.mllib.regression import LabeledPoint\n",
        "\n",
        "# Parse each line into a labeled point\n",
        "def parse_line(line):\n",
        "    parts = line.split(',')\n",
        "    label = float(parts[-1])  # Last column as label\n",
        "    features = Vectors.dense([float(x) for x in parts[:-1]])  # All but the last column as features\n",
        "    return LabeledPoint(label, features)\n",
        "\n",
        "vectorized_rdd = rdd.map(parse_line)"
      ],
      "metadata": {
        "id": "TLZWI1NIP7sD"
      },
      "execution_count": 27,
      "outputs": []
    },
    {
      "cell_type": "code",
      "source": [
        "#standardize the vectorized dataset\n",
        "mean_vector = Statistics.colStats(vectorized_rdd.map(lambda lp: lp.features)).mean()\n",
        "centered_rdd = vectorized_rdd.map(lambda lp: LabeledPoint(lp.label, Vectors.dense(lp.features.toArray() - mean_vector)))\n",
        "covariance_matrix = Statistics.corr(centered_rdd.map(lambda lp: lp.features), method=\"pearson\")\n",
        "\n",
        "\n",
        "#compute eigenvectors and eigenvalues\n",
        "cov_matrix_np = np.array(covariance_matrix)\n",
        "#eg_vc, eig_val\n",
        "eig_val, eig_vec = np.linalg.eig(cov_matrix_np)\n",
        "#sort the eig vcs based on eig vals\n",
        "sorted_indices = np.argsort(eig_val)[::-1]\n",
        "sorted_eig_vectors = eig_vec[:, sorted_indices]"
      ],
      "metadata": {
        "id": "1F8bq5AFQcru"
      },
      "execution_count": 29,
      "outputs": []
    },
    {
      "cell_type": "code",
      "source": [
        "#project the data  onto principle components\n",
        "#rdd is using distributed computations behind the scene\n",
        "k = 2\n",
        "top_k_eig_vcs = sorted_eig_vectors[:, :k]\n",
        "top_k_eig_vcs_broadcast = sc.broadcast(top_k_eig_vcs)\n",
        "\n",
        "\n",
        "reduced_rdd = centered_rdd .map(lambda lp: LabeledPoint(lp.label, Vectors.dense(np.dot(top_k_eig_vcs_broadcast.value.T, lp.features))))"
      ],
      "metadata": {
        "id": "IOEAScrpQ58x"
      },
      "execution_count": 35,
      "outputs": []
    },
    {
      "cell_type": "code",
      "source": [
        "from pyspark.mllib.regression import LinearRegressionWithSGD, LinearRegressionModel\n",
        "from pyspark.mllib.evaluation import RegressionMetrics\n",
        "\n",
        "# Split the data into training and test sets\n",
        "train_rdd, test_rdd = reduced_rdd.randomSplit([0.8, 0.2], seed=42)\n",
        "\n",
        "# Train a linear regression model\n",
        "model = LinearRegressionWithSGD.train(train_rdd, iterations=100, step=0.01)\n",
        "\n",
        "# Evaluate the model on test data\n",
        "predictions_and_labels = test_rdd.map(lambda lp: (float(model.predict(lp.features)), lp.label))\n",
        "metrics = RegressionMetrics(predictions_and_labels)\n",
        "\n",
        "# Print the model's metrics\n",
        "print(f\"Mean Squared Error: {metrics.meanSquaredError}\")\n",
        "print(f\"Root Mean Squared Error: {metrics.rootMeanSquaredError}\")\n",
        "print(f\"R^2: {metrics.r2}\")\n"
      ],
      "metadata": {
        "colab": {
          "base_uri": "https://localhost:8080/"
        },
        "id": "9Qq0cQiiSZQF",
        "outputId": "bf0e2cba-0604-4a3d-e09b-c3d15c1900ec"
      },
      "execution_count": 36,
      "outputs": [
        {
          "output_type": "stream",
          "name": "stderr",
          "text": [
            "/usr/local/lib/python3.10/dist-packages/pyspark/sql/context.py:158: FutureWarning: Deprecated in 3.0.0. Use SparkSession.builder.getOrCreate() instead.\n",
            "  warnings.warn(\n"
          ]
        },
        {
          "output_type": "stream",
          "name": "stdout",
          "text": [
            "Mean Squared Error: 1.064191499279945\n",
            "Root Mean Squared Error: 1.031596577776383\n",
            "R^2: -0.002543615442915259\n"
          ]
        }
      ]
    },
    {
      "cell_type": "code",
      "source": [],
      "metadata": {
        "id": "EbKuGfDEUJU2"
      },
      "execution_count": null,
      "outputs": []
    }
  ]
}